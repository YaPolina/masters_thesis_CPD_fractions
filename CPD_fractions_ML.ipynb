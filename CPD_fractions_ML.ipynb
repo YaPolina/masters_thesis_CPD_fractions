{
 "cells": [
  {
   "cell_type": "code",
   "execution_count": null,
   "metadata": {},
   "outputs": [],
   "source": [
    "!pip3 install sklearn\n",
    "!pip3 install nltk\n",
    "!pip3 install gensim\n",
    "!pip3 install pandas"
   ]
  },
  {
   "cell_type": "code",
   "execution_count": null,
   "metadata": {},
   "outputs": [],
   "source": [
    "import pandas as pd\n",
    "import re\n",
    "import nltk\n",
    "import numpy as np\n",
    "nltk.download(\"stopwords\")\n",
    "from nltk.corpus import stopwords\n",
    "from string import punctuation\n",
    "from sklearn.model_selection import train_test_split"
   ]
  },
  {
   "cell_type": "code",
   "execution_count": 8,
   "metadata": {
    "colab": {
     "base_uri": "https://localhost:8080/",
     "height": 206
    },
    "id": "gV8XKKj3PkwM",
    "outputId": "cff667bd-ea4b-40e4-ff9b-a22aa474b028"
   },
   "outputs": [
    {
     "data": {
      "text/html": [
       "<div>\n",
       "<style scoped>\n",
       "    .dataframe tbody tr th:only-of-type {\n",
       "        vertical-align: middle;\n",
       "    }\n",
       "\n",
       "    .dataframe tbody tr th {\n",
       "        vertical-align: top;\n",
       "    }\n",
       "\n",
       "    .dataframe thead th {\n",
       "        text-align: right;\n",
       "    }\n",
       "</style>\n",
       "<table border=\"1\" class=\"dataframe\">\n",
       "  <thead>\n",
       "    <tr style=\"text-align: right;\">\n",
       "      <th></th>\n",
       "      <th>deputy</th>\n",
       "      <th>speech</th>\n",
       "      <th>fraction</th>\n",
       "    </tr>\n",
       "  </thead>\n",
       "  <tbody>\n",
       "    <tr>\n",
       "      <th>0</th>\n",
       "      <td>Ю. Н. Афанасьев</td>\n",
       "      <td>уважаемый товарищ депутат призывать критично о...</td>\n",
       "      <td>Inter_regional_Deputies_Group</td>\n",
       "    </tr>\n",
       "    <tr>\n",
       "      <th>1</th>\n",
       "      <td>Ю. Н. Афанасьев</td>\n",
       "      <td>александр яковлевич много месяц назад группа н...</td>\n",
       "      <td>Inter_regional_Deputies_Group</td>\n",
       "    </tr>\n",
       "    <tr>\n",
       "      <th>2</th>\n",
       "      <td>Попов Г. X.</td>\n",
       "      <td>товарищ вчера полный демократический обстановк...</td>\n",
       "      <td>Inter_regional_Deputies_Group</td>\n",
       "    </tr>\n",
       "    <tr>\n",
       "      <th>3</th>\n",
       "      <td>Попов Г. X.</td>\n",
       "      <td>протестовать против три минутный выступление у...</td>\n",
       "      <td>Inter_regional_Deputies_Group</td>\n",
       "    </tr>\n",
       "    <tr>\n",
       "      <th>4</th>\n",
       "      <td>Попов Г. X.</td>\n",
       "      <td>товарищ прежде обвинение адрес михаил сергееви...</td>\n",
       "      <td>Inter_regional_Deputies_Group</td>\n",
       "    </tr>\n",
       "  </tbody>\n",
       "</table>\n",
       "</div>"
      ],
      "text/plain": [
       "            deputy                                             speech  \\\n",
       "0  Ю. Н. Афанасьев  уважаемый товарищ депутат призывать критично о...   \n",
       "1  Ю. Н. Афанасьев  александр яковлевич много месяц назад группа н...   \n",
       "2      Попов Г. X.  товарищ вчера полный демократический обстановк...   \n",
       "3      Попов Г. X.  протестовать против три минутный выступление у...   \n",
       "4      Попов Г. X.  товарищ прежде обвинение адрес михаил сергееви...   \n",
       "\n",
       "                        fraction  \n",
       "0  Inter_regional_Deputies_Group  \n",
       "1  Inter_regional_Deputies_Group  \n",
       "2  Inter_regional_Deputies_Group  \n",
       "3  Inter_regional_Deputies_Group  \n",
       "4  Inter_regional_Deputies_Group  "
      ]
     },
     "execution_count": 8,
     "metadata": {},
     "output_type": "execute_result"
    }
   ],
   "source": [
    "train = pd.read_csv('train.csv')\n",
    "train.head()"
   ]
  },
  {
   "cell_type": "code",
   "execution_count": 9,
   "metadata": {
    "id": "o4mWvQJZGc2Q"
   },
   "outputs": [],
   "source": [
    "russian_stopwords = stopwords.words(\"russian\")"
   ]
  },
  {
   "cell_type": "code",
   "execution_count": 10,
   "metadata": {
    "id": "dOpJ8KeMRMLl"
   },
   "outputs": [],
   "source": [
    "train['speech_clean'] = train['speech'].map(lambda x: [token for token in x.split(' ') if token.strip() not in russian_stopwords\\\n",
    "                                                                  and token != \" \" \\\n",
    "                                                                  and token.strip() not in punctuation])\n",
    "train['speech_clean'] = train['speech_clean'].map(lambda x: ' '.join(x))"
   ]
  },
  {
   "cell_type": "code",
   "execution_count": 11,
   "metadata": {
    "colab": {
     "base_uri": "https://localhost:8080/",
     "height": 337
    },
    "id": "sZucUpebQc9G",
    "outputId": "b1cbffe9-f0f7-48d0-f366-9c3230940c97"
   },
   "outputs": [
    {
     "data": {
      "text/html": [
       "<div>\n",
       "<style scoped>\n",
       "    .dataframe tbody tr th:only-of-type {\n",
       "        vertical-align: middle;\n",
       "    }\n",
       "\n",
       "    .dataframe tbody tr th {\n",
       "        vertical-align: top;\n",
       "    }\n",
       "\n",
       "    .dataframe thead th {\n",
       "        text-align: right;\n",
       "    }\n",
       "</style>\n",
       "<table border=\"1\" class=\"dataframe\">\n",
       "  <thead>\n",
       "    <tr style=\"text-align: right;\">\n",
       "      <th></th>\n",
       "      <th>deputy</th>\n",
       "      <th>speech</th>\n",
       "      <th>fraction</th>\n",
       "      <th>speech_clean</th>\n",
       "    </tr>\n",
       "  </thead>\n",
       "  <tbody>\n",
       "    <tr>\n",
       "      <th>0</th>\n",
       "      <td>Ю. Н. Афанасьев</td>\n",
       "      <td>уважаемый товарищ депутат призывать критично о...</td>\n",
       "      <td>Inter_regional_Deputies_Group</td>\n",
       "      <td>уважаемый товарищ депутат призывать критично о...</td>\n",
       "    </tr>\n",
       "    <tr>\n",
       "      <th>1</th>\n",
       "      <td>Ю. Н. Афанасьев</td>\n",
       "      <td>александр яковлевич много месяц назад группа н...</td>\n",
       "      <td>Inter_regional_Deputies_Group</td>\n",
       "      <td>александр яковлевич месяц назад группа народны...</td>\n",
       "    </tr>\n",
       "    <tr>\n",
       "      <th>2</th>\n",
       "      <td>Попов Г. X.</td>\n",
       "      <td>товарищ вчера полный демократический обстановк...</td>\n",
       "      <td>Inter_regional_Deputies_Group</td>\n",
       "      <td>товарищ вчера полный демократический обстановк...</td>\n",
       "    </tr>\n",
       "    <tr>\n",
       "      <th>3</th>\n",
       "      <td>Попов Г. X.</td>\n",
       "      <td>протестовать против три минутный выступление у...</td>\n",
       "      <td>Inter_regional_Deputies_Group</td>\n",
       "      <td>протестовать против минутный выступление утвер...</td>\n",
       "    </tr>\n",
       "    <tr>\n",
       "      <th>4</th>\n",
       "      <td>Попов Г. X.</td>\n",
       "      <td>товарищ прежде обвинение адрес михаил сергееви...</td>\n",
       "      <td>Inter_regional_Deputies_Group</td>\n",
       "      <td>товарищ прежде обвинение адрес михаил сергееви...</td>\n",
       "    </tr>\n",
       "  </tbody>\n",
       "</table>\n",
       "</div>"
      ],
      "text/plain": [
       "            deputy                                             speech  \\\n",
       "0  Ю. Н. Афанасьев  уважаемый товарищ депутат призывать критично о...   \n",
       "1  Ю. Н. Афанасьев  александр яковлевич много месяц назад группа н...   \n",
       "2      Попов Г. X.  товарищ вчера полный демократический обстановк...   \n",
       "3      Попов Г. X.  протестовать против три минутный выступление у...   \n",
       "4      Попов Г. X.  товарищ прежде обвинение адрес михаил сергееви...   \n",
       "\n",
       "                        fraction  \\\n",
       "0  Inter_regional_Deputies_Group   \n",
       "1  Inter_regional_Deputies_Group   \n",
       "2  Inter_regional_Deputies_Group   \n",
       "3  Inter_regional_Deputies_Group   \n",
       "4  Inter_regional_Deputies_Group   \n",
       "\n",
       "                                        speech_clean  \n",
       "0  уважаемый товарищ депутат призывать критично о...  \n",
       "1  александр яковлевич месяц назад группа народны...  \n",
       "2  товарищ вчера полный демократический обстановк...  \n",
       "3  протестовать против минутный выступление утвер...  \n",
       "4  товарищ прежде обвинение адрес михаил сергееви...  "
      ]
     },
     "execution_count": 11,
     "metadata": {},
     "output_type": "execute_result"
    }
   ],
   "source": [
    "train.head()"
   ]
  },
  {
   "cell_type": "markdown",
   "metadata": {},
   "source": [
    "# "
   ]
  },
  {
   "cell_type": "code",
   "execution_count": 12,
   "metadata": {
    "colab": {
     "base_uri": "https://localhost:8080/"
    },
    "id": "zO0B4he5YfhB",
    "outputId": "8f56f2d3-4a25-4b1e-e812-3bd9f738b82a"
   },
   "outputs": [
    {
     "name": "stdout",
     "output_type": "stream",
     "text": [
      "(132,) (44,)\n"
     ]
    }
   ],
   "source": [
    "X_train, X_test, y_train, y_test = train_test_split(train['speech'], train['fraction'], test_size=0.25, random_state=42)\n",
    "print(X_train.shape, X_test.shape)"
   ]
  },
  {
   "cell_type": "markdown",
   "metadata": {
    "id": "wt-SVSOsMmIX"
   },
   "source": [
    "# SDG"
   ]
  },
  {
   "cell_type": "code",
   "execution_count": 13,
   "metadata": {
    "id": "JIi1a-YjMmJF"
   },
   "outputs": [],
   "source": [
    "from sklearn.pipeline import Pipeline\n",
    "from sklearn.feature_extraction.text import TfidfVectorizer\n",
    "from sklearn.linear_model import SGDClassifier\n",
    "from sklearn.neighbors import KNeighborsClassifier\n",
    "from sklearn import metrics\n",
    "from sklearn.model_selection import GridSearchCV"
   ]
  },
  {
   "cell_type": "code",
   "execution_count": 24,
   "metadata": {
    "colab": {
     "base_uri": "https://localhost:8080/"
    },
    "id": "fhdVsGcOMmJH",
    "outputId": "f7bc91fe-3674-486b-8dbe-c520429e329d"
   },
   "outputs": [
    {
     "name": "stdout",
     "output_type": "stream",
     "text": [
      "                               precision    recall  f1-score   support\n",
      "\n",
      "               CSPU_Officials       0.10      1.00      0.18         1\n",
      "Inter_regional_Deputies_Group       1.00      0.79      0.88        43\n",
      "\n",
      "                     accuracy                           0.80        44\n",
      "                    macro avg       0.55      0.90      0.53        44\n",
      "                 weighted avg       0.98      0.80      0.87        44\n",
      "\n"
     ]
    }
   ],
   "source": [
    "# without params\n",
    "sgd_ppl_clf = Pipeline([\n",
    "    ('tfidf', TfidfVectorizer(strip_accents='unicode')),\n",
    "    ('sgd_clf', SGDClassifier(random_state=42))\n",
    "])\n",
    "sgd_ppl_clf.fit(X_train, y_train)\n",
    "predicted_sgd = sgd_ppl_clf.predict(X_test)\n",
    "print(metrics.classification_report(predicted_sgd, y_test))"
   ]
  },
  {
   "cell_type": "code",
   "execution_count": 15,
   "metadata": {
    "colab": {
     "base_uri": "https://localhost:8080/"
    },
    "id": "JSxB1zMIMmJJ",
    "outputId": "f7c9be7e-81c8-4e0a-b3f7-3d748eab5d04"
   },
   "outputs": [
    {
     "name": "stdout",
     "output_type": "stream",
     "text": [
      "Fitting 5 folds for each of 192 candidates, totalling 960 fits\n",
      "Best score and parameter combination:\n",
      "0.8492877492877492 {'sgd_clf__class_weight': None, 'sgd_clf__loss': 'hinge', 'sgd_clf__penalty': 'l1', 'tfidf__ngram_range': (1, 3), 'tfidf__norm': 'l2'}\n",
      "                               precision    recall  f1-score   support\n",
      "\n",
      "               CSPU_Officials       0.60      0.86      0.71         7\n",
      "Inter_regional_Deputies_Group       0.97      0.89      0.93        37\n",
      "\n",
      "                     accuracy                           0.89        44\n",
      "                    macro avg       0.79      0.87      0.82        44\n",
      "                 weighted avg       0.91      0.89      0.89        44\n",
      "\n"
     ]
    }
   ],
   "source": [
    "# grid search\n",
    "parameters = { \n",
    "                'sgd_clf__loss':['hinge', 'log', 'modified_huber', 'squared_hinge'],\n",
    "                'sgd_clf__class_weight':[None, 'balanced'],\n",
    "                'sgd_clf__penalty':['l2', 'l1', 'elasticnet'],\n",
    "                'tfidf__ngram_range': ((1, 1), (1,3), (1,5), (2,2)),\n",
    "                'tfidf__norm': ('l1', 'l2'),\n",
    "              }\n",
    "model = GridSearchCV(sgd_ppl_clf, parameters, n_jobs=-1, verbose=2)\n",
    "model.fit(X_train, y_train)\n",
    "print('Best score and parameter combination:')\n",
    "print(model.best_score_, model.best_params_) \n",
    "\n",
    "predicted_sgd = model.predict(X_test)\n",
    "print(metrics.classification_report(predicted_sgd, y_test))"
   ]
  },
  {
   "cell_type": "code",
   "execution_count": 16,
   "metadata": {
    "colab": {
     "base_uri": "https://localhost:8080/"
    },
    "id": "ykXpFV2CMmJL",
    "outputId": "6af62493-8677-4e26-befa-dce3e3e104f5"
   },
   "outputs": [
    {
     "name": "stdout",
     "output_type": "stream",
     "text": [
      "                               precision    recall  f1-score   support\n",
      "\n",
      "               CSPU_Officials       0.60      0.86      0.71         7\n",
      "Inter_regional_Deputies_Group       0.97      0.89      0.93        37\n",
      "\n",
      "                     accuracy                           0.89        44\n",
      "                    macro avg       0.79      0.87      0.82        44\n",
      "                 weighted avg       0.91      0.89      0.89        44\n",
      "\n"
     ]
    }
   ],
   "source": [
    "# best\n",
    "sgd_ppl_clf = Pipeline([\n",
    "    ('tfidf', TfidfVectorizer(strip_accents='unicode', ngram_range=(1, 3), norm='l2')),\n",
    "    ('sgd_clf', SGDClassifier(random_state=42, class_weight=None, loss='hinge', penalty='l1'))\n",
    "])\n",
    "sgd_ppl_clf.fit(X_train, y_train)\n",
    "predicted_sgd = sgd_ppl_clf.predict(X_test)\n",
    "print(metrics.classification_report(predicted_sgd, y_test))"
   ]
  },
  {
   "cell_type": "markdown",
   "metadata": {
    "id": "yGMk8iv_uQLf"
   },
   "source": [
    "# KNN"
   ]
  },
  {
   "cell_type": "code",
   "execution_count": 17,
   "metadata": {
    "id": "MRAz2uZ8uQL-"
   },
   "outputs": [],
   "source": [
    "from sklearn.pipeline import Pipeline\n",
    "from sklearn.feature_extraction.text import TfidfVectorizer\n",
    "from sklearn.linear_model import SGDClassifier\n",
    "from sklearn.neighbors import KNeighborsClassifier\n",
    "from sklearn import metrics\n",
    "from sklearn.model_selection import GridSearchCV"
   ]
  },
  {
   "cell_type": "code",
   "execution_count": 22,
   "metadata": {
    "colab": {
     "base_uri": "https://localhost:8080/"
    },
    "id": "DZ0DtSMMuQMA",
    "outputId": "139307f5-9306-408b-8aab-432d5f2d86ec"
   },
   "outputs": [
    {
     "name": "stdout",
     "output_type": "stream",
     "text": [
      "                               precision    recall  f1-score   support\n",
      "\n",
      "               CSPU_Officials       0.40      0.67      0.50         6\n",
      "Inter_regional_Deputies_Group       0.94      0.84      0.89        38\n",
      "\n",
      "                     accuracy                           0.82        44\n",
      "                    macro avg       0.67      0.75      0.69        44\n",
      "                 weighted avg       0.87      0.82      0.84        44\n",
      "\n"
     ]
    }
   ],
   "source": [
    "# without params\n",
    "knb_ppl_clf = Pipeline([\n",
    "    ('tfidf', TfidfVectorizer(strip_accents='unicode', norm='l2')),\n",
    "    ('knb_clf', KNeighborsClassifier())\n",
    "])\n",
    "knb_ppl_clf.fit(X_train, y_train)\n",
    "predicted_knn = knb_ppl_clf.predict(X_test)\n",
    "print(metrics.classification_report(predicted_knn, y_test))"
   ]
  },
  {
   "cell_type": "code",
   "execution_count": 19,
   "metadata": {
    "colab": {
     "base_uri": "https://localhost:8080/"
    },
    "id": "Prj_p97suQMB",
    "outputId": "81dfbf7f-2a3d-4b1f-d606-28b4b6b99b6e"
   },
   "outputs": [
    {
     "name": "stdout",
     "output_type": "stream",
     "text": [
      "Fitting 5 folds for each of 256 candidates, totalling 1280 fits\n",
      "Best score and parameter combination:\n",
      "0.8336182336182336 {'knb_clf__algorithm': 'auto', 'knb_clf__leaf_size': 25, 'knb_clf__n_neighbors': 10, 'knb_clf__weights': 'uniform', 'tfidf__ngram_range': (2, 2)}\n",
      "                               precision    recall  f1-score   support\n",
      "\n",
      "               CSPU_Officials       0.30      0.75      0.43         4\n",
      "Inter_regional_Deputies_Group       0.97      0.82      0.89        40\n",
      "\n",
      "                     accuracy                           0.82        44\n",
      "                    macro avg       0.64      0.79      0.66        44\n",
      "                 weighted avg       0.91      0.82      0.85        44\n",
      "\n"
     ]
    }
   ],
   "source": [
    "# grid search\n",
    "parameters = { \n",
    "                'knb_clf__n_neighbors':[5,7,10,15],\n",
    "                'knb_clf__weights':['uniform', 'distance'],\n",
    "               'knb_clf__algorithm':['auto', 'ball_tree', 'kd_tree', 'brute'],\n",
    "                'knb_clf__leaf_size':[25,29,30,31],\n",
    "                'tfidf__ngram_range': ((1,3), (2,2)),\n",
    "              }\n",
    "model = GridSearchCV(knb_ppl_clf, parameters, n_jobs=-1, verbose=2)\n",
    "model.fit(X_train, y_train)\n",
    "print('Best score and parameter combination:')\n",
    "print(model.best_score_, model.best_params_) \n",
    "\n",
    "predicted_knn = model.predict(X_test)\n",
    "print(metrics.classification_report(predicted_knn, y_test))"
   ]
  },
  {
   "cell_type": "code",
   "execution_count": 23,
   "metadata": {
    "colab": {
     "base_uri": "https://localhost:8080/"
    },
    "id": "WnuJr5gwuQMC",
    "outputId": "3ef68205-5433-42aa-b8e4-0248fafd8456"
   },
   "outputs": [
    {
     "name": "stdout",
     "output_type": "stream",
     "text": [
      "                               precision    recall  f1-score   support\n",
      "\n",
      "               CSPU_Officials       0.40      0.67      0.50         6\n",
      "Inter_regional_Deputies_Group       0.94      0.84      0.89        38\n",
      "\n",
      "                     accuracy                           0.82        44\n",
      "                    macro avg       0.67      0.75      0.69        44\n",
      "                 weighted avg       0.87      0.82      0.84        44\n",
      "\n"
     ]
    }
   ],
   "source": [
    "# best\n",
    "knb_ppl_clf = Pipeline([\n",
    "    ('tfidf', TfidfVectorizer(strip_accents='unicode', norm='l2')),\n",
    "    ('knb_clf', KNeighborsClassifier())\n",
    "])\n",
    "knb_ppl_clf.fit(X_train, y_train)\n",
    "predicted_knn = knb_ppl_clf.predict(X_test)\n",
    "print(metrics.classification_report(predicted_knn, y_test))"
   ]
  },
  {
   "cell_type": "markdown",
   "metadata": {
    "id": "9YXwQ16yMmKD"
   },
   "source": [
    "# Best model ML"
   ]
  },
  {
   "cell_type": "code",
   "execution_count": 25,
   "metadata": {
    "colab": {
     "base_uri": "https://localhost:8080/"
    },
    "id": "KYbjXhHhMmKD",
    "outputId": "7773fb4a-82b3-4c59-c53d-43b65436fa37"
   },
   "outputs": [
    {
     "name": "stdout",
     "output_type": "stream",
     "text": [
      "                               precision    recall  f1-score   support\n",
      "\n",
      "               CSPU_Officials       0.60      0.86      0.71         7\n",
      "Inter_regional_Deputies_Group       0.97      0.89      0.93        37\n",
      "\n",
      "                     accuracy                           0.89        44\n",
      "                    macro avg       0.79      0.87      0.82        44\n",
      "                 weighted avg       0.91      0.89      0.89        44\n",
      "\n"
     ]
    }
   ],
   "source": [
    "# best\n",
    "sgd_ppl_clf = Pipeline([\n",
    "    ('tfidf', TfidfVectorizer(strip_accents='unicode', ngram_range=(1, 3), norm='l2')),\n",
    "    ('sgd_clf', SGDClassifier(random_state=42, class_weight=None, loss='hinge', penalty='l1'))\n",
    "])\n",
    "sgd_ppl_clf.fit(X_train, y_train)\n",
    "predicted_sgd = sgd_ppl_clf.predict(X_test)\n",
    "print(metrics.classification_report(predicted_sgd, y_test))"
   ]
  },
  {
   "cell_type": "markdown",
   "metadata": {},
   "source": [
    "# Counting speeches and deputies by faction"
   ]
  },
  {
   "cell_type": "code",
   "execution_count": 28,
   "metadata": {
    "colab": {
     "base_uri": "https://localhost:8080/"
    },
    "id": "IqK2ij7cBsJW",
    "outputId": "6e231937-fc2a-4746-c38e-cf2ab807e586"
   },
   "outputs": [
    {
     "name": "stdout",
     "output_type": "stream",
     "text": [
      "[['CSPU_Officials' '181']\n",
      " ['Inter_regional_Deputies_Group' '709']]\n"
     ]
    }
   ],
   "source": [
    "#подсчет до исключения строчек \"не представился\", \"голос с места\" и председательствующий\n",
    "(unique, counts) = np.unique(result, return_counts=True)\n",
    "frequencies = np.asarray((unique, counts)).T\n",
    "print(frequencies)"
   ]
  },
  {
   "cell_type": "code",
   "execution_count": 29,
   "metadata": {
    "colab": {
     "base_uri": "https://localhost:8080/",
     "height": 206
    },
    "id": "ErfcmQYOJ7Ve",
    "outputId": "d7b32fbb-5bed-41e8-ce82-d4d2c30f9197"
   },
   "outputs": [
    {
     "data": {
      "text/html": [
       "<div>\n",
       "<style scoped>\n",
       "    .dataframe tbody tr th:only-of-type {\n",
       "        vertical-align: middle;\n",
       "    }\n",
       "\n",
       "    .dataframe tbody tr th {\n",
       "        vertical-align: top;\n",
       "    }\n",
       "\n",
       "    .dataframe thead th {\n",
       "        text-align: right;\n",
       "    }\n",
       "</style>\n",
       "<table border=\"1\" class=\"dataframe\">\n",
       "  <thead>\n",
       "    <tr style=\"text-align: right;\">\n",
       "      <th></th>\n",
       "      <th>deputy</th>\n",
       "      <th>speech</th>\n",
       "      <th>fraction</th>\n",
       "    </tr>\n",
       "  </thead>\n",
       "  <tbody>\n",
       "    <tr>\n",
       "      <th>0</th>\n",
       "      <td>толпежников в. ф.</td>\n",
       "      <td>товарищ прежде начинать заседание просить почт...</td>\n",
       "      <td>Inter_regional_Deputies_Group</td>\n",
       "    </tr>\n",
       "    <tr>\n",
       "      <th>1</th>\n",
       "      <td>лукин в.</td>\n",
       "      <td>уважаемый товарищ известно организация подгото...</td>\n",
       "      <td>Inter_regional_Deputies_Group</td>\n",
       "    </tr>\n",
       "    <tr>\n",
       "      <th>2</th>\n",
       "      <td>назарбаев н. а.</td>\n",
       "      <td>уважаемый товарищ народный депутат вчера собра...</td>\n",
       "      <td>Inter_regional_Deputies_Group</td>\n",
       "    </tr>\n",
       "    <tr>\n",
       "      <th>3</th>\n",
       "      <td>сахаров а. д.</td>\n",
       "      <td>уважаемый депутат хотеть выступать защита два ...</td>\n",
       "      <td>Inter_regional_Deputies_Group</td>\n",
       "    </tr>\n",
       "    <tr>\n",
       "      <th>4</th>\n",
       "      <td>председательствующий.</td>\n",
       "      <td>минута товарищ думать заключительный этап дово...</td>\n",
       "      <td>CSPU_Officials</td>\n",
       "    </tr>\n",
       "  </tbody>\n",
       "</table>\n",
       "</div>"
      ],
      "text/plain": [
       "                  deputy                                             speech  \\\n",
       "0      толпежников в. ф.  товарищ прежде начинать заседание просить почт...   \n",
       "1               лукин в.  уважаемый товарищ известно организация подгото...   \n",
       "2        назарбаев н. а.  уважаемый товарищ народный депутат вчера собра...   \n",
       "3          сахаров а. д.  уважаемый депутат хотеть выступать защита два ...   \n",
       "4  председательствующий.  минута товарищ думать заключительный этап дово...   \n",
       "\n",
       "                        fraction  \n",
       "0  Inter_regional_Deputies_Group  \n",
       "1  Inter_regional_Deputies_Group  \n",
       "2  Inter_regional_Deputies_Group  \n",
       "3  Inter_regional_Deputies_Group  \n",
       "4                 CSPU_Officials  "
      ]
     },
     "execution_count": 29,
     "metadata": {},
     "output_type": "execute_result"
    }
   ],
   "source": [
    "all_data['fraction'] = result\n",
    "all_data.head()"
   ]
  },
  {
   "cell_type": "code",
   "execution_count": 30,
   "metadata": {
    "id": "VZFsleBKKCaa"
   },
   "outputs": [],
   "source": [
    "distinct = all_data.groupby(['deputy','fraction']).size().reset_index().rename(columns={0:'count'})"
   ]
  },
  {
   "cell_type": "code",
   "execution_count": 31,
   "metadata": {
    "colab": {
     "base_uri": "https://localhost:8080/"
    },
    "id": "K3m8OYdCLWAv",
    "outputId": "162fa594-bafd-424c-997b-a0d10581753e"
   },
   "outputs": [
    {
     "name": "stdout",
     "output_type": "stream",
     "text": [
      "108   327\n"
     ]
    }
   ],
   "source": [
    "#подсчет до исключения строчек \"не представился\", \"голос с места\" и председательствующий\n",
    "cspu = len(distinct[distinct['fraction']=='CSPU_Officials'])\n",
    "inter_regional = len(distinct[distinct['fraction']=='Inter_regional_Deputies_Group'])\n",
    "print(cspu, ' ', inter_regional)"
   ]
  }
 ],
 "metadata": {
  "accelerator": "GPU",
  "colab": {
   "collapsed_sections": [],
   "name": "ML Congress .ipynb",
   "provenance": []
  },
  "kernelspec": {
   "display_name": "Python 3 (ipykernel)",
   "language": "python",
   "name": "python3"
  },
  "language_info": {
   "codemirror_mode": {
    "name": "ipython",
    "version": 3
   },
   "file_extension": ".py",
   "mimetype": "text/x-python",
   "name": "python",
   "nbconvert_exporter": "python",
   "pygments_lexer": "ipython3",
   "version": "3.10.4"
  }
 },
 "nbformat": 4,
 "nbformat_minor": 1
}
