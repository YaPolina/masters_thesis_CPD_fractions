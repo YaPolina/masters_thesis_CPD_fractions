import fitz
import re

def clean_line(line):
    cleaned = line
    cleaned = cleaned.replace('\xad', '')
    cleaned = cleaned.replace('\u00ad', '')
    cleaned = cleaned.replace('\N{SOFT HYPHEN}', '')
    return cleaned

text = ""
path = textpath

doc = fitz.open(path)

text = ''
with open('file.txt','w', encoding='utf-8') as fd:  
    for page in doc:
        fancy_page = page.get_textpage().extractDICT()
        for block in fancy_page['blocks']:
            for line in block['lines']:
                for span in line['spans']:
                    if('Bold' in span['font']):
                        print(text, file=fd)
                        print('BOLD\t\t' + clean_line(span['text']), file=fd)
                        text = ''
                    else:
                        cleaned = clean_line(span['text'])
                        if(cleaned == ''):
                            continue
                        text = text + cleaned
    print(text,file=fd)      
